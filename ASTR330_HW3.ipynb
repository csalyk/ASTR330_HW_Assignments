{
 "cells": [
  {
   "cell_type": "markdown",
   "metadata": {},
   "source": [
    "## <font color=\"red\">Student name:</font>"
   ]
  },
  {
   "cell_type": "code",
   "execution_count": 2,
   "metadata": {},
   "outputs": [
    {
     "name": "stdout",
     "output_type": "stream",
     "text": [
      "Populating the interactive namespace from numpy and matplotlib\n"
     ]
    }
   ],
   "source": [
    "#Start all notebooks with this line.  It sets a lot of variables to values we want to use,\n",
    "#and reads in some important packages of routines, too.\n",
    "%pylab inline"
   ]
  },
  {
   "cell_type": "markdown",
   "metadata": {},
   "source": [
    "## The Rossiter-McLaughlin effect"
   ]
  },
  {
   "cell_type": "markdown",
   "metadata": {},
   "source": [
    "In this problem, we will create a simple numerical model to create curves of radial velocity vs. time showing the Rossiter-McLaughlin effect.   We'll make a few simplifying assumptions: \n",
    "\n",
    "- (1) Assume the star's equator is exactly edge-on (or its rotation axis is exactly perpendicular to the observer)\n",
    "\n",
    "- (2) Assume all parts of the star's surface rotate at the same rate \n",
    "\n",
    "- (3) Assume the star is a perfectly uniform surface (no limb darkening).  Let's also assume the star has a radius $R_\\odot$ and has the same period of rotation as the sun, the planet has a radius $R_\\odot/10$, and that the planet speed is such that, if it transits the star at its equator, the center of the planet takes takes 2 hours to travel across the star.  \n",
    "\n",
    "In this problem, I'll walk you through the process I used to model this system.   However, before reading through my process, and before each step, I would encourage you to think about how you might have designed this algorithm for yourself.  In addition, I make no guarantees that I found the best or most efficient way to complete this problem.  I would encourage you to think creatively and critically about the modeling steps.\n"
   ]
  },
  {
   "cell_type": "markdown",
   "metadata": {},
   "source": [
    "### 1(a): First, let's do some geometry to figure out the radial velocity at each point on the star.  Firstly, consider a particle traveling in a circle with speed $v$, and radius $r$, viewed edge-on by an observer.  When the particle is at the edge of the circle (from the observer's perspective) it has a maximum radial velocity.  When the particle is at the center of the circle, it has zero radial velocity (all of its motion is tangential to the observer).  Find an expression for the radial velocity, $v_r$, as a function $x$ --- the observed separation of the particle from the center of the circle, as well as $v$ and $r$."
   ]
  },
  {
   "cell_type": "code",
   "execution_count": null,
   "metadata": {},
   "outputs": [],
   "source": []
  },
  {
   "cell_type": "markdown",
   "metadata": {},
   "source": [
    "<font color=\"red\">*Comments from instructor: (please do not remove this cell)*</font>"
   ]
  },
  {
   "cell_type": "markdown",
   "metadata": {},
   "source": [
    "### 1(b): Now, we need to consider the fact that the speed of a particle on the surface of a star depends on its distance from the rotation axis.  (Since all of the molecules on the surface of the star have the same angular speed, $\\omega$, the molecules near the pole must have a different speed than the molecules near the equator.)  Find an expression for the velocity of a particle as a function of the radius of the circle along which it travels, $r$, and its angular speed, $\\omega$.  "
   ]
  },
  {
   "cell_type": "code",
   "execution_count": null,
   "metadata": {},
   "outputs": [],
   "source": []
  },
  {
   "cell_type": "markdown",
   "metadata": {},
   "source": [
    "<font color=\"red\">*Comments from instructor:*</font>"
   ]
  },
  {
   "cell_type": "markdown",
   "metadata": {},
   "source": [
    "### 1(c): Combine the last two equations to find an equation for radial velocity, $v_r$, as a function of $x$ and $\\omega$.  We now know how to find the radial velocity at any point on a rotating star.  "
   ]
  },
  {
   "cell_type": "code",
   "execution_count": null,
   "metadata": {},
   "outputs": [],
   "source": []
  },
  {
   "cell_type": "markdown",
   "metadata": {},
   "source": [
    "<font color=\"red\">*Comments from instructor:*</font>"
   ]
  },
  {
   "cell_type": "markdown",
   "metadata": {},
   "source": [
    "### 1(d): Now let's begin the modeling process.  Create a 2-dimensional 500 x 500 pixel grid of physical size 2$R_\\odot$ x 2$R_\\odot$, with positions going from -$R_\\odot$ to +$R_\\odot$.  Hint: Use the numpy.linspace routine to define the x and y coordinates of your axes.  Then, use numpy.meshgrid to find the x and y positions at every point on the 500 x 500 pixel grid.  Use the radial velocity expression you derived to also create a grid of radial velocity values."
   ]
  },
  {
   "cell_type": "code",
   "execution_count": null,
   "metadata": {},
   "outputs": [],
   "source": []
  },
  {
   "cell_type": "markdown",
   "metadata": {},
   "source": [
    "<font color=\"red\">*Comments from instructor:*</font>"
   ]
  },
  {
   "cell_type": "markdown",
   "metadata": {},
   "source": [
    "### 1(e): Create a mask to represent the star's boundaries.  Create a boolean array with the value of True wherever the grid points are inside the star's radius, and the value False wherever the grid points are outside of the star's radius."
   ]
  },
  {
   "cell_type": "code",
   "execution_count": null,
   "metadata": {},
   "outputs": [],
   "source": []
  },
  {
   "cell_type": "markdown",
   "metadata": {},
   "source": [
    "<font color=\"red\">*Comments from instructor:*</font>"
   ]
  },
  {
   "cell_type": "markdown",
   "metadata": {},
   "source": [
    "### 1(f): Given an (x,y) position for the planet, and given its radius $R_\\odot/10$, create a mask to represent the planet's boundaries.  Create a boolean array with the value of True wherever the grid points are inside the planet's radius, and the value False wherever the grid points are outside of the planet's radius."
   ]
  },
  {
   "cell_type": "code",
   "execution_count": null,
   "metadata": {},
   "outputs": [],
   "source": []
  },
  {
   "cell_type": "markdown",
   "metadata": {},
   "source": [
    "<font color=\"red\">*Comments from instructor:*</font>"
   ]
  },
  {
   "cell_type": "markdown",
   "metadata": {},
   "source": [
    "### 1(g): Create an array of times extending from 1 hour before ingress and extending to 1 hour after egress (4 hours in total).  "
   ]
  },
  {
   "cell_type": "code",
   "execution_count": null,
   "metadata": {},
   "outputs": [],
   "source": []
  },
  {
   "cell_type": "markdown",
   "metadata": {},
   "source": [
    "<font color=\"red\">*Comments from instructor:*</font> "
   ]
  },
  {
   "cell_type": "markdown",
   "metadata": {},
   "source": [
    "### 1(h):  Let's begin with a simple example of a planet transiting the stellar equator.  For each time in the time grid, compute the x and y position of the planet.  Then, use the star and planet boolean masks to compute the mean radial velocity of the observable parts of the star.  Make a plot of the radial velocity vs. time.  Make sure the properties of this plot match your expectations.  If not, figure out why and fix it."
   ]
  },
  {
   "cell_type": "code",
   "execution_count": null,
   "metadata": {},
   "outputs": [],
   "source": []
  },
  {
   "cell_type": "markdown",
   "metadata": {},
   "source": [
    "<font color=\"red\">*Comments from instructor:*</font>"
   ]
  },
  {
   "cell_type": "markdown",
   "metadata": {},
   "source": [
    "### 1(i): Try another example in which the planet travels straight across the star, but at a height $R_\\odot/2$ above the star's equator.  Plot both this and the previous example on the same plot, and make sure their similarities/differences match your expectations as well."
   ]
  },
  {
   "cell_type": "code",
   "execution_count": null,
   "metadata": {},
   "outputs": [],
   "source": []
  },
  {
   "cell_type": "markdown",
   "metadata": {},
   "source": [
    "<font color=\"red\">*Comments from instructor:*</font>"
   ]
  },
  {
   "cell_type": "markdown",
   "metadata": {},
   "source": [
    "### 1(j): Try another example in which the planet travels vertically across the surface of the star, but offset from the star's rotation axis by a distance $R_\\odot/2$.  Plot all three curves on the same plot, and make sure this last plot matches your expectations. "
   ]
  },
  {
   "cell_type": "code",
   "execution_count": null,
   "metadata": {},
   "outputs": [],
   "source": []
  },
  {
   "cell_type": "markdown",
   "metadata": {},
   "source": [
    "<font color=\"red\">*Comments from instructor:*</font>"
   ]
  },
  {
   "cell_type": "markdown",
   "metadata": {},
   "source": [
    "### 1(k):  Now let's increase the complication somewhat.  Consider a planet that passes across a star such that its path makes an angle $\\theta$ with the star's equator, and that its path intersects the equator at a distance from the star's rotation axis of $\\Delta x$.  Find expressions for the planet's x and y position as a function of $\\theta$, $\\Delta x$, and its position along its path which we'll call $x'$.  Given that $x'=v_\\mathrm{planet} \\times \\mathrm{time}$, compute the x and y position of the planet as a function of time."
   ]
  },
  {
   "cell_type": "code",
   "execution_count": null,
   "metadata": {},
   "outputs": [],
   "source": []
  },
  {
   "cell_type": "markdown",
   "metadata": {},
   "source": [
    "<font color=\"red\">*Comments from instructor:*</font>"
   ]
  },
  {
   "cell_type": "markdown",
   "metadata": {},
   "source": [
    "### 1(l): Use the computed x and y positions to find the radial velocity curve for a planet with $\\theta=45^\\circ$ and $\\Delta x=R_\\odot/2$.  Plot all 4 model tests on the same plot.  Include a legend identifying the curves, proper axes labels, etc."
   ]
  },
  {
   "cell_type": "code",
   "execution_count": null,
   "metadata": {},
   "outputs": [],
   "source": []
  },
  {
   "cell_type": "markdown",
   "metadata": {},
   "source": [
    "<font color=\"red\">*Comments from instructor:*</font>"
   ]
  },
  {
   "cell_type": "markdown",
   "metadata": {},
   "source": [
    "### 1(m): Perform at least one additional test and/or improvement to this modeling procedure, of your choosing.  Describe what you're doing and why.  "
   ]
  },
  {
   "cell_type": "code",
   "execution_count": null,
   "metadata": {},
   "outputs": [],
   "source": []
  },
  {
   "cell_type": "markdown",
   "metadata": {},
   "source": [
    "<font color=\"red\">*Comments from instructor:*</font>"
   ]
  },
  {
   "cell_type": "markdown",
   "metadata": {},
   "source": [
    "### 1(n): Is it necessary to know the direction of the star's rotation to figure out if the planet's motion is prograde or retrograde?  Explain your answer."
   ]
  },
  {
   "cell_type": "code",
   "execution_count": null,
   "metadata": {},
   "outputs": [],
   "source": []
  },
  {
   "cell_type": "markdown",
   "metadata": {},
   "source": [
    "<font color=\"red\">*Comments from instructor:*</font>"
   ]
  },
  {
   "cell_type": "markdown",
   "metadata": {},
   "source": [
    "## <font color=\"red\"> Grade </font>"
   ]
  },
  {
   "cell_type": "markdown",
   "metadata": {},
   "source": [
    "<font color=\"red\"> Calculations: </font>"
   ]
  },
  {
   "cell_type": "code",
   "execution_count": 2,
   "metadata": {},
   "outputs": [],
   "source": [
    "calculations_grade=0"
   ]
  },
  {
   "cell_type": "markdown",
   "metadata": {},
   "source": [
    "<font color=\"red\"> Concepts: </font>"
   ]
  },
  {
   "cell_type": "code",
   "execution_count": 3,
   "metadata": {},
   "outputs": [],
   "source": [
    "concepts_grade=0"
   ]
  },
  {
   "cell_type": "markdown",
   "metadata": {},
   "source": [
    "<font color=\"red\"> Communication: </font>"
   ]
  },
  {
   "cell_type": "code",
   "execution_count": 4,
   "metadata": {},
   "outputs": [],
   "source": [
    "communication_grade=0"
   ]
  },
  {
   "cell_type": "markdown",
   "metadata": {},
   "source": [
    "<font color=\"red\"> Total grade: </font>"
   ]
  },
  {
   "cell_type": "code",
   "execution_count": 5,
   "metadata": {},
   "outputs": [
    {
     "name": "stdout",
     "output_type": "stream",
     "text": [
      "0\n"
     ]
    }
   ],
   "source": [
    "print(calculations_grade+concepts_grade+communication_grade)"
   ]
  },
  {
   "cell_type": "code",
   "execution_count": null,
   "metadata": {},
   "outputs": [],
   "source": []
  }
 ],
 "metadata": {
  "kernelspec": {
   "display_name": "Python 3",
   "language": "python",
   "name": "python3"
  },
  "language_info": {
   "codemirror_mode": {
    "name": "ipython",
    "version": 3
   },
   "file_extension": ".py",
   "mimetype": "text/x-python",
   "name": "python",
   "nbconvert_exporter": "python",
   "pygments_lexer": "ipython3",
   "version": "3.7.3"
  }
 },
 "nbformat": 4,
 "nbformat_minor": 1
}
