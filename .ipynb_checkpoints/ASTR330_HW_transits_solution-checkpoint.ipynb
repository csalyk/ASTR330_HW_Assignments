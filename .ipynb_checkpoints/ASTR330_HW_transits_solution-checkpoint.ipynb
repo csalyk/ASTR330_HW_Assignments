{
 "cells": [
  {
   "cell_type": "markdown",
   "id": "cb62ce2b",
   "metadata": {},
   "source": [
    "## <font color=\"red\">Student name:</font>"
   ]
  },
  {
   "cell_type": "code",
   "execution_count": 161,
   "id": "c78a005e",
   "metadata": {},
   "outputs": [],
   "source": [
    "%matplotlib inline\n",
    "import numpy as np\n",
    "import matplotlib.pyplot as plt\n",
    "import pickle as pickle"
   ]
  },
  {
   "cell_type": "markdown",
   "id": "28500a01",
   "metadata": {},
   "source": [
    "You may find the R_sun constant helpful for this homework, so let's read it in here"
   ]
  },
  {
   "cell_type": "code",
   "execution_count": 37,
   "id": "75ffb20d",
   "metadata": {},
   "outputs": [],
   "source": [
    "from astropy.constants import R_sun"
   ]
  },
  {
   "cell_type": "markdown",
   "id": "dd626113",
   "metadata": {},
   "source": [
    "### In this problem set, we'll practice modeling an exoplanet transit, as well as \"fitting\" an exoplanet transit with models using the residual sum of squares (a.k.a., \"the reduced chi squared method\")."
   ]
  },
  {
   "cell_type": "markdown",
   "id": "5c2ce295",
   "metadata": {},
   "source": [
    "### 1(a): First, let's begin the modeling process.  Create a 2-dimensional 500 x 500 pixel grid of physical size 2$R_\\odot$ x 2$R_\\odot$, with positions going from -$R_\\odot$ to +$R_\\odot$.  Hint: Use the numpy.linspace routine to define the x and y coordinates of your axes.  Then, use numpy.meshgrid to find the x and y positions at every point on the 500 x 500 pixel grid.  "
   ]
  },
  {
   "cell_type": "code",
   "execution_count": 126,
   "id": "319b41ca",
   "metadata": {},
   "outputs": [],
   "source": [
    "nx, ny = (501, 501)  #x and y dimensions\n",
    "x = (np.linspace(0, 500, nx)-250)*R_sun.value/250.   #x values for grid\n",
    "y = (np.linspace(0, 500, ny)-250)*R_sun.value/250.   #y values for grid\n",
    "xv, yv = np.meshgrid(x, y)   #Gives x and y positions everywhere on the grid"
   ]
  },
  {
   "cell_type": "markdown",
   "id": "cfce9fda",
   "metadata": {},
   "source": [
    "### 1(b): Create a mask to represent the star's boundaries on the grid you just created.  To do this, create a boolean array with the value of True wherever the grid points are inside the star's radius, and the value False wherever the grid points are outside of the star's radius.  For simplicity, let the star's radius equal one solar radius.  Use imshow to check your results."
   ]
  },
  {
   "cell_type": "code",
   "execution_count": 127,
   "id": "3a9321df",
   "metadata": {},
   "outputs": [],
   "source": [
    "star_bool=np.sqrt(xv**2+yv**2)<R_sun.value    #Find where distance is less than R_sun"
   ]
  },
  {
   "cell_type": "markdown",
   "id": "ec0fc470",
   "metadata": {},
   "source": [
    "I'll do a quick plot to make sure this makes sense."
   ]
  },
  {
   "cell_type": "code",
   "execution_count": 128,
   "id": "69a9b3a0",
   "metadata": {},
   "outputs": [
    {
     "data": {
      "text/plain": [
       "<matplotlib.image.AxesImage at 0x12b100a90>"
      ]
     },
     "execution_count": 128,
     "metadata": {},
     "output_type": "execute_result"
    },
    {
     "data": {
      "image/png": "[encoded data removed]",
      "text/plain": [
       "<Figure size 432x288 with 1 Axes>"
      ]
     },
     "metadata": {
      "needs_background": "light"
     },
     "output_type": "display_data"
    }
   ],
   "source": [
    "plt.imshow(star_bool)"
   ]
  },
  {
   "cell_type": "markdown",
   "id": "4a4fef8a",
   "metadata": {},
   "source": [
    "### 1(c): Given a position (x,y) for the planet, and assuming it has a radius $0.1 R_\\odot$ (similar to Jupiter's radius), create a mask to represent the planet's boundaries.  To do this, create a boolean array with the value of True wherever the grid points are inside the planet's radius, and the value False wherever the grid points are outside of the planet's radius.  Use imshow to test your results; perhaps try first placing the planet at the position (0,0)."
   ]
  },
  {
   "cell_type": "code",
   "execution_count": 129,
   "id": "500e6508",
   "metadata": {},
   "outputs": [],
   "source": [
    "r_planet=R_sun.value/10.  #Set radius of planet\n",
    "pos_planet=(0,0)   #Test first with position equal to (0,0)\n",
    "planet_bool=np.sqrt((xv-pos_planet[0])**2+(yv-pos_planet[1])**2)<r_planet  #create planet boolean array"
   ]
  },
  {
   "cell_type": "code",
   "execution_count": 130,
   "id": "721f6558",
   "metadata": {},
   "outputs": [
    {
     "data": {
      "text/plain": [
       "<matplotlib.image.AxesImage at 0x12b5e39d0>"
      ]
     },
     "execution_count": 130,
     "metadata": {},
     "output_type": "execute_result"
    },
    {
     "data": {
      "image/png": "[encoded data removed]",
      "text/plain": [
       "<Figure size 432x288 with 1 Axes>"
      ]
     },
     "metadata": {
      "needs_background": "light"
     },
     "output_type": "display_data"
    }
   ],
   "source": [
    "plt.imshow(planet_bool)"
   ]
  },
  {
   "cell_type": "markdown",
   "id": "88df9da7",
   "metadata": {},
   "source": [
    "This looks reasonable! I can see that the width appears to be around 50 which is 500/10, as expected."
   ]
  },
  {
   "cell_type": "markdown",
   "id": "d4db3939",
   "metadata": {},
   "source": [
    "### 1(d): Now, we'll need to create a set of timesteps so the planet can move across the star. Create an array of times extending from 0 to 4 hours.  Let the time interval be one minute."
   ]
  },
  {
   "cell_type": "code",
   "execution_count": 131,
   "id": "ee3cfc33",
   "metadata": {},
   "outputs": [],
   "source": [
    "timelist=np.arange(4*60)                        #4 hours, in minutes"
   ]
  },
  {
   "cell_type": "markdown",
   "id": "34413e48",
   "metadata": {},
   "source": [
    "### 1(e):  For simplicity, we'll allow our planet to transit the stellar equator.  For each time in the time grid, compute the x position of the planet, assuming the total transit duration is 2 hours, and that the timesteps you created start 1 hour before ingress and end 1 hour after egress (i.e., the planet begins at a position -2R_sun at time 0). "
   ]
  },
  {
   "cell_type": "code",
   "execution_count": 132,
   "id": "c36ae472",
   "metadata": {},
   "outputs": [],
   "source": [
    "v_planet = R_sun.value/(60.)                         #meters/minute\n",
    "timelist=np.arange(4*60)                             #seconds, 60 seconds=1 minute\n",
    "xlist=timelist*v_planet-2.*R_sun.value "
   ]
  },
  {
   "cell_type": "markdown",
   "id": "1021147e",
   "metadata": {},
   "source": [
    "### 1(f) Use the star and planet boolean masks to compute the total number stellar pixels that are visible at each time step - this will be proportional to the total intensity seen by an observer.  To be consistent, call this total intensity int_tot_list1.\n",
    "\n",
    "### Once you've computed int_tot_list1, divide by its maximum value to compute a relative intensity - call this int_rel_list1.  Then, plot relative intensity vs. time.  "
   ]
  },
  {
   "cell_type": "code",
   "execution_count": 135,
   "id": "6595afef",
   "metadata": {},
   "outputs": [],
   "source": [
    "nx, ny = (501, 501)\n",
    "x = (np.linspace(0, 500, nx)-250)*R_sun.value/250.\n",
    "y = (np.linspace(0, 500, ny)-250)*R_sun.value/250.\n",
    "xv, yv = np.meshgrid(x, y)   #Gives x and y positions everywhere on the grid\n",
    "r_planet1=0.1*R_sun.value\n",
    "star_bool=np.sqrt(xv**2+yv**2)<R_sun.value"
   ]
  },
  {
   "cell_type": "markdown",
   "id": "23c6be71",
   "metadata": {},
   "source": [
    "Finally, I'll loop through the times (or x positions), compute the planet mask, and use this to find the mean radial velocity."
   ]
  },
  {
   "cell_type": "code",
   "execution_count": 136,
   "id": "4935f31e",
   "metadata": {},
   "outputs": [],
   "source": [
    "int_tot_list1=np.zeros(np.size(xlist))  #Make an array to hold the total radial velocities for each time step\n",
    "\n",
    "for i,myx in enumerate(xlist):   #Loop through x positions fo planet\n",
    "    pos_planet=(myx,0)          #Planet remains on x axis, so y position never changes\n",
    "    planet_bool=np.sqrt((xv-pos_planet[0])**2+(yv-pos_planet[1])**2)<r_planet1  #planet mask\n",
    "    both_bool=((planet_bool==False) & (star_bool==True))     #combine planet and star mask\n",
    "    int_tot_list1[i]=np.sum(both_bool)   "
   ]
  },
  {
   "cell_type": "code",
   "execution_count": 137,
   "id": "ffe99e36",
   "metadata": {},
   "outputs": [],
   "source": [
    "int_rel_list1=int_tot_list1/np.max(int_tot_list1)"
   ]
  },
  {
   "cell_type": "code",
   "execution_count": 138,
   "id": "1d6baa67",
   "metadata": {},
   "outputs": [
    {
     "data": {
      "text/plain": [
       "Text(0, 0.5, 'Relative intensity')"
      ]
     },
     "execution_count": 138,
     "metadata": {},
     "output_type": "execute_result"
    },
    {
     "data": {
      "image/png": "[encoded data removed]",
      "text/plain": [
       "<Figure size 720x216 with 1 Axes>"
      ]
     },
     "metadata": {
      "needs_background": "light"
     },
     "output_type": "display_data"
    }
   ],
   "source": [
    "fig=plt.figure(figsize=(10,3))\n",
    "ax1=fig.add_subplot(111)\n",
    "ax1.plot((timelist-2*60*60)/60, int_rel_list1)\n",
    "ax1.set_xlabel('Time [minutes]',fontsize=14)\n",
    "ax1.set_ylabel(r'Relative intensity',fontsize=14)"
   ]
  },
  {
   "cell_type": "markdown",
   "id": "9447e624",
   "metadata": {},
   "source": [
    "### 1(g) Using an appropriate equation, calculated the expected drop in relative intensity during the transit.  Check that your plot matches this expectation. If not, figure out why, and try to fix it."
   ]
  },
  {
   "cell_type": "markdown",
   "id": "2bbcfd81",
   "metadata": {},
   "source": [
    "The relevant equation is $\\Delta F / F = (R_p/R_\\star)^2$.  Therefore, $\\Delta F/F =  1/100.$  So, we should expect a 1% drop in intensity in the plot above.  Indeed, the intensity drops from 1 to 0.99."
   ]
  },
  {
   "cell_type": "markdown",
   "id": "e244844a",
   "metadata": {},
   "source": [
    "### 1(h) The dataset provided below represents a synthetic observation of an exoplanet transit (with time intervals identical to your models).  Use this dataset, and the model you created, to calculate the sum of squared residuals, the chi-squared goodness of fit parameter, and the reduced-chi-squared value.) The dataset provided below represents a synthetic observation of an exoplanet transit.  Use this dataset, and the model you created, to calculate the sum of squared residuals, the chi-squared goodness of fit parameter, and the reduced-chi-squared value."
   ]
  },
  {
   "cell_type": "code",
   "execution_count": 163,
   "id": "bcd57b98",
   "metadata": {},
   "outputs": [],
   "source": [
    "#(FYI, the synthetic data were created with the following commands:)\n",
    "\n",
    "#data_t=np.arange(4*60)  \n",
    "#noise=np.random.normal(size=np.size(data_t))*0.003\n",
    "#data_ri=int_tot_list1/np.max(int_tot_list1) + noise\n",
    "#pickle.dump(data_ri,open('transit_data.p','wb'))"
   ]
  },
  {
   "cell_type": "code",
   "execution_count": 168,
   "id": "59724659",
   "metadata": {},
   "outputs": [
    {
     "data": {
      "text/plain": [
       "[<matplotlib.lines.Line2D at 0x12cbc8550>]"
      ]
     },
     "execution_count": 168,
     "metadata": {},
     "output_type": "execute_result"
    },
    {
     "data": {
      "image/png": "[encoded data removed]",
      "text/plain": [
       "<Figure size 432x288 with 1 Axes>"
      ]
     },
     "metadata": {
      "needs_background": "light"
     },
     "output_type": "display_data"
    }
   ],
   "source": [
    "data_ri=pickle.load(open('transit_data.p','rb'))\n",
    "\n",
    "fig=plt.figure()\n",
    "ax1=fig.add_subplot(111)\n",
    "ax1.plot(timelist, data_ri, 'r.')"
   ]
  },
  {
   "cell_type": "code",
   "execution_count": 153,
   "id": "c01cb82b",
   "metadata": {},
   "outputs": [
    {
     "name": "stdout",
     "output_type": "stream",
     "text": [
      "0.002173046744231087 83.1097019747268 0.005771907908516342\n"
     ]
    }
   ],
   "source": [
    "#The sum of squared residuals is the sum of the squared differences between data and model:\n",
    "rss1=np.sum((data_ri-int_rel_list1)**2.)\n",
    "\n",
    "#To calculate chi -squared, I first have to estimate what $\\sigma$ is.  \n",
    "sigma1=np.std(data_ri[0:2000])\n",
    "chisq1=np.sum( (data_ri-int_rel_list1)**2./sigma**2. )\n",
    "\n",
    "#To calculate the reduced chi squared, I need to know the degrees of freedom, \n",
    "#which are equal to the number of data points minus the number of free parameters.\n",
    "#Assuming I'm only fitting the radius here, then I'll let the DOF = # data points - 1\n",
    "dof1=np.size(data_ri)-1\n",
    "rchisq1=chisq1/dof\n",
    "\n",
    "print(rss1, chisq1, rchisq1)"
   ]
  },
  {
   "cell_type": "markdown",
   "id": "b6baaf2c",
   "metadata": {},
   "source": [
    "### 1(i) Re-do the calculations above for planets with a radius of 0.09 R_solar.  (Use different variable names so you don't overwrite the work above)."
   ]
  },
  {
   "cell_type": "code",
   "execution_count": 154,
   "id": "c0da6e80",
   "metadata": {},
   "outputs": [],
   "source": [
    "#Redefine r_planet.  Everything else remains the same.\n",
    "r_planet2=0.09*R_sun.value\n",
    "int_tot_list2=np.zeros(np.size(xlist))  #Make an array to hold the total radial velocities for each time step\n",
    "\n",
    "for i,myx in enumerate(xlist):   #Loop through x positions fo planet\n",
    "    pos_planet=(myx,0)          #Planet remains on x axis, so y position never changes\n",
    "    planet_bool=np.sqrt((xv-pos_planet[0])**2+(yv-pos_planet[1])**2)<r_planet2  #planet mask\n",
    "    both_bool=((planet_bool==False) & (star_bool==True))     #combine planet and star mask\n",
    "    int_tot_list2[i]=np.sum(both_bool)   \n",
    "\n",
    "int_rel_list2=int_tot_list2/np.max(int_tot_list1)"
   ]
  },
  {
   "cell_type": "code",
   "execution_count": 155,
   "id": "497917fc",
   "metadata": {},
   "outputs": [
    {
     "name": "stdout",
     "output_type": "stream",
     "text": [
      "0.0026640324305919946 101.8877950717303 0.007076032715586519\n"
     ]
    }
   ],
   "source": [
    "#The sum of squared residuals is the sum of the squared differences between data and model:\n",
    "rss2=np.sum((data_ri-int_rel_list2)**2.)\n",
    "\n",
    "#To calculate chi -squared, I first have to estimate what $\\sigma$ is.  \n",
    "sigma2=np.std(data_ri[0:2000])\n",
    "chisq2=np.sum( (data_ri-int_rel_list2)**2./sigma**2. )\n",
    "\n",
    "#To calculate the reduced chi squared, I need to know the degrees of freedom, \n",
    "#which are equal to the number of data points minus the number of free parameters.\n",
    "#Assuming I'm only fitting the radius here, then I'll let the DOF = # data points - 1\n",
    "dof2=np.size(data_ri)-1\n",
    "rchisq2=chisq2/dof\n",
    "\n",
    "print(rss2, chisq2, rchisq2)"
   ]
  },
  {
   "cell_type": "markdown",
   "id": "72d6bb46",
   "metadata": {},
   "source": [
    "### 1(j) Re-do the calculations above for planets with a radius of 0.11 R_solar. (Again, use different variable names so you don't overwrite the work above)."
   ]
  },
  {
   "cell_type": "code",
   "execution_count": 156,
   "id": "e30678ed",
   "metadata": {},
   "outputs": [],
   "source": [
    "#Redefine r_planet.  Everything else remains the same.\n",
    "r_planet3=0.11*R_sun.value\n",
    "int_tot_list3=np.zeros(np.size(xlist))  #Make an array to hold the total radial velocities for each time step\n",
    "\n",
    "for i,myx in enumerate(xlist):   #Loop through x positions fo planet\n",
    "    pos_planet=(myx,0)          #Planet remains on x axis, so y position never changes\n",
    "    planet_bool=np.sqrt((xv-pos_planet[0])**2+(yv-pos_planet[1])**2)<r_planet3  #planet mask\n",
    "    both_bool=((planet_bool==False) & (star_bool==True))     #combine planet and star mask\n",
    "    int_tot_list3[i]=np.sum(both_bool)   \n",
    "\n",
    "int_rel_list3=int_tot_list3/np.max(int_tot_list3)"
   ]
  },
  {
   "cell_type": "code",
   "execution_count": 157,
   "id": "21a1a1c9",
   "metadata": {},
   "outputs": [
    {
     "name": "stdout",
     "output_type": "stream",
     "text": [
      "0.0025946468563887515 99.23409495750784 0.006891735186992696\n"
     ]
    }
   ],
   "source": [
    "#The sum of squared residuals is the sum of the squared differences between data and model:\n",
    "rss3=np.sum((data_ri-int_rel_list3)**2.)\n",
    "\n",
    "#To calculate chi -squared, I first have to estimate what $\\sigma$ is.  \n",
    "sigma3=np.std(data_ri[0:2000])\n",
    "chisq3=np.sum( (data_ri-int_rel_list3)**2./sigma**2. )\n",
    "\n",
    "#To calculate the reduced chi squared, I need to know the degrees of freedom, \n",
    "#which are equal to the number of data points minus the number of free parameters.\n",
    "#Assuming I'm only fitting the radius here, then I'll let the DOF = # data points - 1\n",
    "dof3=np.size(data_ri)-1\n",
    "rchisq3=chisq3/dof\n",
    "\n",
    "print(rss3, chisq3, rchisq3)"
   ]
  },
  {
   "cell_type": "markdown",
   "id": "a59d08ba",
   "metadata": {},
   "source": [
    "### 1(k) Make a plot of the sum of squared residuals vs. planet size.  Which model provides the best fit to the data?"
   ]
  },
  {
   "cell_type": "code",
   "execution_count": 158,
   "id": "5c0c4ddf",
   "metadata": {},
   "outputs": [
    {
     "data": {
      "text/plain": [
       "Text(0, 0.5, 'Sum of squared residuals (RSS)')"
      ]
     },
     "execution_count": 158,
     "metadata": {},
     "output_type": "execute_result"
    },
    {
     "data": {
      "image/png": "[encoded data removed]",
      "text/plain": [
       "<Figure size 432x288 with 1 Axes>"
      ]
     },
     "metadata": {
      "needs_background": "light"
     },
     "output_type": "display_data"
    }
   ],
   "source": [
    "fig=plt.figure()\n",
    "ax1=fig.add_subplot(111)\n",
    "ax1.plot([0.09,0.1,0.11],[rss2,rss1,rss3],'ro')\n",
    "ax1.set_xlabel('Planet Radius [R$_\\odot$]',fontsize=14)\n",
    "ax1.set_ylabel('Sum of squared residuals (RSS)')"
   ]
  },
  {
   "cell_type": "markdown",
   "id": "2003815f",
   "metadata": {},
   "source": [
    "### 1(l) Confirm your result by overplotting the data with all three models.  Does your conclusion from above agree with these plots?"
   ]
  },
  {
   "cell_type": "code",
   "execution_count": 159,
   "id": "301feaf4",
   "metadata": {},
   "outputs": [
    {
     "data": {
      "text/plain": [
       "Text(0, 0.5, 'Relative intensity')"
      ]
     },
     "execution_count": 159,
     "metadata": {},
     "output_type": "execute_result"
    },
    {
     "data": {
      "image/png": "[encoded data removed]",
      "text/plain": [
       "<Figure size 720x360 with 1 Axes>"
      ]
     },
     "metadata": {
      "needs_background": "light"
     },
     "output_type": "display_data"
    }
   ],
   "source": [
    "fig=plt.figure(figsize=(10,5))\n",
    "ax1=fig.add_subplot(111)\n",
    "\n",
    "ax1.plot((data_t-2*60*60)/60, data_ri, 'r.')\n",
    "\n",
    "ax1.plot((timelist-2*60*60)/60, int_rel_list1,'.',label='Model 1, R=0.1 R$_\\odot$')\n",
    "ax1.plot((timelist-2*60*60)/60, int_rel_list2,'.',label='Model 2, R=0.09 R$_\\odot$')\n",
    "ax1.plot((timelist-2*60*60)/60, int_rel_list3,'.',label='Model 3, R=0.11 R$_\\odot$')\n",
    "\n",
    "ax1.legend()\n",
    "ax1.set_xlabel('Time [minutes]',fontsize=14)\n",
    "ax1.set_ylabel(r'Relative intensity',fontsize=14)"
   ]
  },
  {
   "cell_type": "markdown",
   "id": "ecd772c5",
   "metadata": {},
   "source": [
    "### 1(m) Our process here was simplified in many ways.  Describe one or more modifications you might make to this process to make the model fitting more sophisticated.  (You do not need to implement the changes, just discuss them.)"
   ]
  },
  {
   "cell_type": "markdown",
   "id": "f76aa3f9",
   "metadata": {},
   "source": [
    "There are various answers to this, but here are several things that come to mind.  We did not account for any inclinations besides directly edge-on orbits, so we could add in the ability to fit the planetary inclination. We did not account for limb-darkening - we would do this by changing the intensity of each pixel of the star.  We only tried three values of the planetary radius.  Ideally, we would want to more finely test a grid of models to find the best fit. We did not consider changes or uncertainty in stellar radius.  We did not simultaneously vary inclination and planetary radius.  We would probably want to vary both and make a 2D chi-squared diagram, as in Charbonneau et al. 2000.  Finally, our synthetic \"data\" have exactly 1 minute cadence, which is pretty unlikely for real data, which may have holes in it, or uneven cadence.  Therefore, we would need to allow our model to adjust to the data's timesteps."
   ]
  },
  {
   "cell_type": "markdown",
   "id": "3c8caa28",
   "metadata": {},
   "source": [
    "## <font color=\"red\"> Grade </font>"
   ]
  },
  {
   "cell_type": "markdown",
   "id": "6b330886",
   "metadata": {},
   "source": [
    "<font color=\"red\"> Calculations: </font>"
   ]
  },
  {
   "cell_type": "code",
   "execution_count": 29,
   "id": "c861ae2f",
   "metadata": {},
   "outputs": [],
   "source": [
    "calculations_grade=0"
   ]
  },
  {
   "cell_type": "markdown",
   "id": "7614cbd1",
   "metadata": {},
   "source": [
    "<font color=\"red\"> Concepts: </font>"
   ]
  },
  {
   "cell_type": "code",
   "execution_count": 30,
   "id": "b2851416",
   "metadata": {},
   "outputs": [],
   "source": [
    "concepts_grade=0"
   ]
  },
  {
   "cell_type": "markdown",
   "id": "42cd769f",
   "metadata": {},
   "source": [
    "<font color=\"red\"> Communication: </font>"
   ]
  },
  {
   "cell_type": "code",
   "execution_count": 31,
   "id": "7fdc5532",
   "metadata": {},
   "outputs": [],
   "source": [
    "communication_grade=0"
   ]
  },
  {
   "cell_type": "markdown",
   "id": "1f13e8b5",
   "metadata": {},
   "source": [
    "<font color=\"red\"> Total grade: </font>"
   ]
  },
  {
   "cell_type": "code",
   "execution_count": 32,
   "id": "e5e7fb5a",
   "metadata": {},
   "outputs": [
    {
     "name": "stdout",
     "output_type": "stream",
     "text": [
      "0\n"
     ]
    }
   ],
   "source": [
    "print(calculations_grade+concepts_grade+communication_grade)"
   ]
  },
  {
   "cell_type": "code",
   "execution_count": null,
   "id": "af6b1d9a",
   "metadata": {},
   "outputs": [],
   "source": []
  }
 ],
 "metadata": {
  "kernelspec": {
   "display_name": "Python 3 (ipykernel)",
   "language": "python",
   "name": "python3"
  },
  "language_info": {
   "codemirror_mode": {
    "name": "ipython",
    "version": 3
   },
   "file_extension": ".py",
   "mimetype": "text/x-python",
   "name": "python",
   "nbconvert_exporter": "python",
   "pygments_lexer": "ipython3",
   "version": "3.9.12"
  }
 },
 "nbformat": 4,
 "nbformat_minor": 5
}
