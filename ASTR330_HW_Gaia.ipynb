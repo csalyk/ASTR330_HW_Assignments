{
 "cells": [
  {
   "cell_type": "markdown",
   "metadata": {},
   "source": [
    "## <font color=\"red\">Student name:</font>"
   ]
  },
  {
   "cell_type": "code",
   "execution_count": 1,
   "metadata": {},
   "outputs": [
    {
     "name": "stdout",
     "output_type": "stream",
     "text": [
      "Populating the interactive namespace from numpy and matplotlib\n"
     ]
    }
   ],
   "source": [
    "#Start all notebooks with this line.  It sets a lot of variables to values we want to use,\n",
    "#and reads in some important packages of routines, too.\n",
    "%pylab inline"
   ]
  },
  {
   "cell_type": "markdown",
   "metadata": {},
   "source": [
    "## Planet parameters and GAIA DR2"
   ]
  },
  {
   "cell_type": "markdown",
   "metadata": {},
   "source": [
    "To estimate a planet's radius via the transit method, it's necessary to know the star's radius.  Radius measurements are not trivial to calculate.  In this question, you'll investigate the uncertainties in stellar radii measurements and how they might influence the *planet* radius calculation in (perhaps) surprising ways.\n"
   ]
  },
  {
   "cell_type": "markdown",
   "metadata": {},
   "source": [
    "### 1(a): Compute the diffraction limit at 0.6$\\mu$m (visible light) of a telescope with a 10-m diameter (the approximate size of the Keck telescope, the Gemini telescopes, the Large Binocular Telescope, and the 4 Very Large Telescopes).   Express your answer in arcsec."
   ]
  },
  {
   "cell_type": "code",
   "execution_count": null,
   "metadata": {},
   "outputs": [],
   "source": []
  },
  {
   "cell_type": "markdown",
   "metadata": {},
   "source": [
    "<font color=\"red\">*Comments from instructor: (please do not remove this cell)*</font>"
   ]
  },
  {
   "cell_type": "markdown",
   "metadata": {},
   "source": [
    "### 1(b): Compute the diffraction limit at 0.6$\\mu$m (visible light) of the \"Keck interferometer\", which combines the light from the Keck telescopes for use as an interferometer.  The telescopes have a separation of 85 m.  Express your answer in arcsec."
   ]
  },
  {
   "cell_type": "code",
   "execution_count": null,
   "metadata": {},
   "outputs": [],
   "source": []
  },
  {
   "cell_type": "markdown",
   "metadata": {},
   "source": [
    "<font color=\"red\">*Comments from instructor:*</font>"
   ]
  },
  {
   "cell_type": "markdown",
   "metadata": {},
   "source": [
    "### 1(c): Find a symbolic expression for the maximum distance at which a sun-like star (with radius $R_\\odot$) can be resolved, given a diffraction limit, $\\theta_d$."
   ]
  },
  {
   "cell_type": "code",
   "execution_count": null,
   "metadata": {},
   "outputs": [],
   "source": []
  },
  {
   "cell_type": "markdown",
   "metadata": {},
   "source": [
    "<font color=\"red\">*Comments from instructor:*</font>"
   ]
  },
  {
   "cell_type": "markdown",
   "metadata": {},
   "source": [
    "### 1(d): Compute the maximum distance for each of the two diffraction limits you computed above.  How do these limits compare to the typical distance to Kepler target stars --- about 200 parsec (pc)?  Are these stars resolved?  Comment therefore on the implications for *directly measuring* the sizes of stars, just by taking pictures of them."
   ]
  },
  {
   "cell_type": "code",
   "execution_count": null,
   "metadata": {},
   "outputs": [],
   "source": []
  },
  {
   "cell_type": "markdown",
   "metadata": {},
   "source": [
    "<font color=\"red\">*Comments from instructor:*</font>"
   ]
  },
  {
   "cell_type": "markdown",
   "metadata": {},
   "source": [
    "### 1(e): Instead of directly measuring stellar radii, the radii are inferred from the star's temperature and luminosity.  The temperature is estimated via the star's spectrum (its spectral type) while the luminosity is determined from the star's measured flux and distance.  Find an expression for stellar radius $R_\\star$ given an observed Flux, $F_\\star$, a distance $d_\\star$, and temperature $T_\\star$.  "
   ]
  },
  {
   "cell_type": "code",
   "execution_count": null,
   "metadata": {},
   "outputs": [],
   "source": []
  },
  {
   "cell_type": "markdown",
   "metadata": {},
   "source": [
    "<font color=\"red\">*Comments from instructor:*</font>"
   ]
  },
  {
   "cell_type": "markdown",
   "metadata": {},
   "source": [
    "### 1(f): Assuming uncertainties in Flux, distance, and Temperature, $\\sigma_F$, $\\sigma_d$ and  $\\sigma_T$, use propagation of errors to determine an expression for the uncertainty in stellar radius, $\\sigma_R$.  "
   ]
  },
  {
   "cell_type": "code",
   "execution_count": null,
   "metadata": {},
   "outputs": [],
   "source": []
  },
  {
   "cell_type": "markdown",
   "metadata": {},
   "source": [
    "<font color=\"red\">*Comments from instructor:*</font>"
   ]
  },
  {
   "cell_type": "markdown",
   "metadata": {},
   "source": [
    "### 1(g): Assume that $\\sigma_F$ is very small.   (Why might this be reasonable?)  Consider a star with $T_\\star=6000\\pm10 $K and $R_\\star\\approx R_\\odot$ at $d=200\\pm20$ pc. This distance uncertainty is representative of the uncertainty of the all-sky survey Hipparcos.  What is the uncertainty in the stellar radius, $\\sigma_{R_\\star}$ in units of $R_\\odot$, contributed by the error in temperature?   What is the uncertainty in the stellar radius, $\\sigma_{R_\\star}$ in units of $R_\\odot$, contributed by the error in distance?  Which of these two factors dominates the uncertainty? "
   ]
  },
  {
   "cell_type": "code",
   "execution_count": null,
   "metadata": {},
   "outputs": [],
   "source": []
  },
  {
   "cell_type": "markdown",
   "metadata": {},
   "source": [
    "<font color=\"red\">*Comments from instructor:*</font> "
   ]
  },
  {
   "cell_type": "markdown",
   "metadata": {},
   "source": [
    "### 1(h):  The Gaia survey has improved parallax measurements considerably over the previous survey, Hipparcos.  For stars at 200 pc, the distance uncertainty is now closer to 2 pc.  What is the uncertainty in stellar radius, $\\sigma_{R_\\star}$, in units of $R_\\odot$, contributed by the error in distance?  Discuss your answer to this question and the previous question.\n"
   ]
  },
  {
   "cell_type": "code",
   "execution_count": null,
   "metadata": {},
   "outputs": [],
   "source": []
  },
  {
   "cell_type": "markdown",
   "metadata": {},
   "source": [
    "<font color=\"red\">*Comments from instructor:*</font>"
   ]
  },
  {
   "cell_type": "markdown",
   "metadata": {},
   "source": [
    "### 1(i): Remember that transit observations measure the ratio of the planet to star's cross-sectional areas, $\\Delta F/F = (R_p/R_\\star)^2$.  Assuming the uncertainty in $R_\\star$ dominates over the uncertainty in $\\Delta F/F$, and assuming you're observing a roughly Jupiter-sized planet, for which $R_p/R_\\star=1/10$, what is the uncertainty in $R_p$, $\\sigma_{R_p}$ given an uncertainty in $R_\\star$, $\\sigma_{R_\\star}$?   \n"
   ]
  },
  {
   "cell_type": "code",
   "execution_count": null,
   "metadata": {},
   "outputs": [],
   "source": []
  },
  {
   "cell_type": "markdown",
   "metadata": {},
   "source": [
    "<font color=\"red\">*Comments from instructor:*</font>"
   ]
  },
  {
   "cell_type": "markdown",
   "metadata": {},
   "source": [
    "### 1(j): Given the uncertainty $\\sigma_{R_\\star}$ contributed by the Hipparcos distance uncertainty, what is the associated uncertainty in $R_p$?  Given the uncertainty $\\sigma_{R_\\star}$ contributed by the Gaia distance uncertainty, what is the associated uncertainty in $R_p$?   Express your answers in Jupiter radii. "
   ]
  },
  {
   "cell_type": "code",
   "execution_count": null,
   "metadata": {},
   "outputs": [],
   "source": []
  },
  {
   "cell_type": "markdown",
   "metadata": {},
   "source": [
    "<font color=\"red\">*Comments from instructor:*</font>"
   ]
  },
  {
   "cell_type": "markdown",
   "metadata": {},
   "source": [
    "### 1(k): The parallax uncertainty also introduces a *bias* in determined planet radii.  This can be a bit tricky to understand, so let's explore it with some real numbers.  Suppose the parallax for a KOI was measured to be $5\\pm4$ mas, with an associated distance of 200 pc.  Compute the distance if the true parallax turns out to be 1 mas or 9 mas, respectively.  Given your answers, is the distance more likely to be much larger than 200 pc, or much smaller than 200 pc?"
   ]
  },
  {
   "cell_type": "code",
   "execution_count": null,
   "metadata": {},
   "outputs": [],
   "source": []
  },
  {
   "cell_type": "markdown",
   "metadata": {},
   "source": [
    "<font color=\"red\">*Comments from instructor:*</font>"
   ]
  },
  {
   "cell_type": "markdown",
   "metadata": {},
   "source": [
    "### 1(l):Let's also see how this affects planet radii.  Assume a planet originally assumed to be at a distance of 200 pc has a size of 0.1 R$_\\odot$ and orbits a star of size $R_\\odot$.  Now, recalculate the radius of the planet if its true parallax turns out to be 1 mas.  Perform the same calculation if its true parallax turns out to be 9 mas.  Given your answers, was the true planet radius more likely to be much larger or much smaller than 0.1 R$_\\odot$?"
   ]
  },
  {
   "cell_type": "code",
   "execution_count": null,
   "metadata": {},
   "outputs": [],
   "source": []
  },
  {
   "cell_type": "markdown",
   "metadata": {},
   "source": [
    "<font color=\"red\">*Comments from instructor:*</font>"
   ]
  },
  {
   "cell_type": "markdown",
   "metadata": {},
   "source": [
    "## <font color=\"red\"> Grade </font>"
   ]
  },
  {
   "cell_type": "markdown",
   "metadata": {},
   "source": [
    "<font color=\"red\"> Calculations: </font>"
   ]
  },
  {
   "cell_type": "code",
   "execution_count": 2,
   "metadata": {},
   "outputs": [],
   "source": [
    "calculations_grade=0"
   ]
  },
  {
   "cell_type": "markdown",
   "metadata": {},
   "source": [
    "<font color=\"red\"> Concepts: </font>"
   ]
  },
  {
   "cell_type": "code",
   "execution_count": 3,
   "metadata": {},
   "outputs": [],
   "source": [
    "concepts_grade=0"
   ]
  },
  {
   "cell_type": "markdown",
   "metadata": {},
   "source": [
    "<font color=\"red\"> Communication: </font>"
   ]
  },
  {
   "cell_type": "code",
   "execution_count": 4,
   "metadata": {},
   "outputs": [],
   "source": [
    "communication_grade=0"
   ]
  },
  {
   "cell_type": "markdown",
   "metadata": {},
   "source": [
    "<font color=\"red\"> Total grade: </font>"
   ]
  },
  {
   "cell_type": "code",
   "execution_count": 5,
   "metadata": {},
   "outputs": [
    {
     "name": "stdout",
     "output_type": "stream",
     "text": [
      "0\n"
     ]
    }
   ],
   "source": [
    "print(calculations_grade+concepts_grade+communication_grade)"
   ]
  },
  {
   "cell_type": "code",
   "execution_count": null,
   "metadata": {},
   "outputs": [],
   "source": []
  }
 ],
 "metadata": {
  "kernelspec": {
   "display_name": "Python 3",
   "language": "python",
   "name": "python3"
  },
  "language_info": {
   "codemirror_mode": {
    "name": "ipython",
    "version": 3
   },
   "file_extension": ".py",
   "mimetype": "text/x-python",
   "name": "python",
   "nbconvert_exporter": "python",
   "pygments_lexer": "ipython3",
   "version": "3.5.6"
  }
 },
 "nbformat": 4,
 "nbformat_minor": 1
}
