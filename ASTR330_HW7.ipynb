{
 "cells": [
  {
   "cell_type": "markdown",
   "metadata": {},
   "source": [
    "## <font color=\"red\">Student name:</font>"
   ]
  },
  {
   "cell_type": "code",
   "execution_count": 1,
   "metadata": {},
   "outputs": [
    {
     "name": "stdout",
     "output_type": "stream",
     "text": [
      "Populating the interactive namespace from numpy and matplotlib\n"
     ]
    }
   ],
   "source": [
    "#Start all notebooks with this line.  It sets a lot of variables to values we want to use,\n",
    "#and reads in some important packages of routines, too.\n",
    "%pylab inline"
   ]
  },
  {
   "cell_type": "markdown",
   "metadata": {},
   "source": [
    "##  Protoplanetary disk SED"
   ]
  },
  {
   "cell_type": "markdown",
   "metadata": {},
   "source": [
    "The goal of this problem is to understand Spectral Energy Distributions (SEDs), the spectra emitted by\n",
    "a star plus a disk. Using some simple assumptions, you'll generate your own model SED. For this problem,\n",
    "assume the star has the properties adopted by Chiang \\& Goldreich (an effective temperature of 4000 K, a\n",
    "mass of 0.5 solar masses, and a radius of 2.5 solar radii). For the disk, assume an opaque disk extending\n",
    "from the approximate location of the dust sublimation radius (0.05 AU) out to 100 AU. We will also assume that the dust in the disk radiates as a perfect\n",
    "blackbody. For this problem, use the following form of the blackbody equation:\n",
    "\\begin{equation}\n",
    "I_\\nu (T) = \\frac{2\\pi h \\nu^3}{c^2} \\frac{1}{e^{h\\nu/ k T} - 1}\\ \\   \\mathrm{[Energy/area/time/Hz]}\n",
    "\\end{equation}"
   ]
  },
  {
   "cell_type": "markdown",
   "metadata": {},
   "source": [
    "### 1(a):  Assuming the protoplanetary disk is perfectly thin, find an approximate expression for the incidence angle, $\\alpha$, a ray of light would have (i.e., the angle between the ray and the disk surface) if it's emitted from the top of the star of radius $R_\\star$ and impacts the disk at a distance $a$ from the center of the star.  You can assume $a>>R_\\star$.  "
   ]
  },
  {
   "cell_type": "code",
   "execution_count": null,
   "metadata": {},
   "outputs": [],
   "source": []
  },
  {
   "cell_type": "markdown",
   "metadata": {},
   "source": [
    "<font color=\"red\">*Comments from instructor: (please do not remove this cell)*</font>"
   ]
  },
  {
   "cell_type": "markdown",
   "metadata": {},
   "source": [
    "### 1(b): Following similar steps to those used to derive the equilibrium temperature of a planet, find the equilibrium temperature of a small ring in the disk (say, of size $da$) at a distance $a$ from the center of the star.  Assume the disk is a perfect blackbody, and that all rays of light impact the disk at the angle $\\alpha$ you derived above.  Express your final answer only in terms of $T_\\star$, $R_\\star$ and $a$.  Let's call this $T_d$. "
   ]
  },
  {
   "cell_type": "code",
   "execution_count": null,
   "metadata": {},
   "outputs": [],
   "source": []
  },
  {
   "cell_type": "markdown",
   "metadata": {},
   "source": [
    "<font color=\"red\">*Comments from instructor:*</font>"
   ]
  },
  {
   "cell_type": "markdown",
   "metadata": {},
   "source": [
    "### 1(c): Express the equation for equilibrium temperature of a planet, $T_e$, given in terms of $T_\\star$, $R_\\star$, $a$, and any relevant constants.  (You can rederive this equation if you wish, or find it in your ASTR 230 notes.)"
   ]
  },
  {
   "cell_type": "code",
   "execution_count": null,
   "metadata": {},
   "outputs": [],
   "source": []
  },
  {
   "cell_type": "markdown",
   "metadata": {},
   "source": [
    "<font color=\"red\">*Comments from instructor:*</font>"
   ]
  },
  {
   "cell_type": "markdown",
   "metadata": {},
   "source": [
    "### 1(d): Explain qualitatively how and why these expressions differ.  Also, make a plot of $T_d$ and planetary equilibrium temperature, $T_e$, vs. $a$, assuming the values given above, and using a log scale for the x axis.  What is the temperature at 1 AU for each case?"
   ]
  },
  {
   "cell_type": "code",
   "execution_count": null,
   "metadata": {},
   "outputs": [],
   "source": []
  },
  {
   "cell_type": "markdown",
   "metadata": {},
   "source": [
    "<font color=\"red\">*Comments from instructor:*</font>"
   ]
  },
  {
   "cell_type": "markdown",
   "metadata": {},
   "source": [
    "### 1(e): Assuming that we are viewing the star and disk from directly above (i.e. along the pole) at a distance of 150 parsecs, plot a spectral energy distribution (SED) for the star alone, the disk alone, and the star plus disk at wavelengths of 0.1 $\\mu$m to 3 mm.  By convention, the y axis for an SED is $\\nu F_\\nu$, where $F_\\nu$ is the flux of light detected by an observer at that frequency (in units of Energy per unit area per unit time per Hz), and $\\nu$ is the frequency (in Hz), while the x axis is wavelength.  Use a log-log scale, and use Furlan et al. 2006 to make sure you're in the right ballpark.  Big hint: Create a model disk that consists of a series of concentric rings at distances $a_i$, each with temperature $T_d(a_i)$.  Compute the flux received by an observer for each ring, and add them together to create the disk SED."
   ]
  },
  {
   "cell_type": "code",
   "execution_count": null,
   "metadata": {},
   "outputs": [],
   "source": []
  },
  {
   "cell_type": "markdown",
   "metadata": {},
   "source": [
    "<font color=\"red\">*Comments from instructor:*</font>"
   ]
  },
  {
   "cell_type": "markdown",
   "metadata": {},
   "source": [
    "### 1(f): Create a new model in which the disk has been cleared from the stellar surface out to a distance of 5 AU, but that the disk resumes after that. (This might happen if a giant planet has formed and cleared out part of the disk). Plot an SED for this system."
   ]
  },
  {
   "cell_type": "code",
   "execution_count": null,
   "metadata": {},
   "outputs": [],
   "source": []
  },
  {
   "cell_type": "markdown",
   "metadata": {},
   "source": [
    "<font color=\"red\">*Comments from instructor:*</font>"
   ]
  },
  {
   "cell_type": "markdown",
   "metadata": {},
   "source": [
    "### 1(g):  In this problem, we made several simplifying assumptions.  Add an additional complication to this model, of your choice.  Describe what you did, and what you learned."
   ]
  },
  {
   "cell_type": "code",
   "execution_count": null,
   "metadata": {},
   "outputs": [],
   "source": []
  },
  {
   "cell_type": "markdown",
   "metadata": {},
   "source": [
    "<font color=\"red\">*Comments from instructor:*</font> "
   ]
  },
  {
   "cell_type": "markdown",
   "metadata": {},
   "source": [
    "## <font color=\"red\"> Grade </font>"
   ]
  },
  {
   "cell_type": "markdown",
   "metadata": {},
   "source": [
    "<font color=\"red\"> Calculations: </font>"
   ]
  },
  {
   "cell_type": "code",
   "execution_count": 2,
   "metadata": {},
   "outputs": [],
   "source": [
    "calculations_grade=0"
   ]
  },
  {
   "cell_type": "markdown",
   "metadata": {},
   "source": [
    "<font color=\"red\"> Concepts: </font>"
   ]
  },
  {
   "cell_type": "code",
   "execution_count": 3,
   "metadata": {},
   "outputs": [],
   "source": [
    "concepts_grade=0"
   ]
  },
  {
   "cell_type": "markdown",
   "metadata": {},
   "source": [
    "<font color=\"red\"> Communication: </font>"
   ]
  },
  {
   "cell_type": "code",
   "execution_count": 4,
   "metadata": {},
   "outputs": [],
   "source": [
    "communication_grade=0"
   ]
  },
  {
   "cell_type": "markdown",
   "metadata": {},
   "source": [
    "<font color=\"red\"> Total grade: </font>"
   ]
  },
  {
   "cell_type": "code",
   "execution_count": 5,
   "metadata": {},
   "outputs": [
    {
     "name": "stdout",
     "output_type": "stream",
     "text": [
      "0\n"
     ]
    }
   ],
   "source": [
    "print(calculations_grade+concepts_grade+communication_grade)"
   ]
  },
  {
   "cell_type": "code",
   "execution_count": null,
   "metadata": {},
   "outputs": [],
   "source": []
  }
 ],
 "metadata": {
  "kernelspec": {
   "display_name": "Python 3",
   "language": "python",
   "name": "python3"
  },
  "language_info": {
   "codemirror_mode": {
    "name": "ipython",
    "version": 3
   },
   "file_extension": ".py",
   "mimetype": "text/x-python",
   "name": "python",
   "nbconvert_exporter": "python",
   "pygments_lexer": "ipython3",
   "version": "3.5.6"
  }
 },
 "nbformat": 4,
 "nbformat_minor": 1
}
