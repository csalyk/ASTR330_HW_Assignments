{
 "cells": [
  {
   "cell_type": "markdown",
   "metadata": {},
   "source": [
    "## <font color=\"red\">Student name:</font>"
   ]
  },
  {
   "cell_type": "code",
   "execution_count": 1,
   "metadata": {},
   "outputs": [
    {
     "name": "stdout",
     "output_type": "stream",
     "text": [
      "Populating the interactive namespace from numpy and matplotlib\n"
     ]
    }
   ],
   "source": [
    "#Start all notebooks with this line.  It sets a lot of variables to values we want to use,\n",
    "#and reads in some important packages of routines, too.\n",
    "%pylab inline"
   ]
  },
  {
   "cell_type": "markdown",
   "metadata": {},
   "source": [
    "## Why does Migration stop?"
   ]
  },
  {
   "cell_type": "markdown",
   "metadata": {},
   "source": [
    "The distribution of extra-solar planets has a pile-up at small distances. It seems that inward migration stops and deposits planets at this distance.  Hoever, the reason migration stops is not entirely clear, and is still under debate.  In this assignment, you'll consider different scenarios and how they might be tested observationally."
   ]
  },
  {
   "cell_type": "markdown",
   "metadata": {},
   "source": [
    "### 1(a): Based on the discussion in the top right hand side of page 54 of the Armitage lecture notes, explain why you wouldn't necessarily expect migration to stop at the inner edge of a protoplanetary gas disk."
   ]
  },
  {
   "cell_type": "code",
   "execution_count": null,
   "metadata": {},
   "outputs": [],
   "source": []
  },
  {
   "cell_type": "markdown",
   "metadata": {},
   "source": [
    "<font color=\"red\">*Comments from instructor:*</font>"
   ]
  },
  {
   "cell_type": "markdown",
   "metadata": {},
   "source": [
    "### At least three theories have been proposed to explain this pile-up (i.e., to explain why planetary migration *stops* before the planet falls onto the star): \n",
    "\n",
    "-trapping the exoplanet in an orbital resonance with the magnetospheric truncation radius, \n",
    "\n",
    "-trapping the exoplanet in an orbital resonance with the dust sublimation radius, \n",
    "\n",
    "-tidal circularization (see Plavchan \\& Bilinski 2013 and references therein for more details and references)."
   ]
  },
  {
   "cell_type": "markdown",
   "metadata": {},
   "source": [
    "### 1(b): Magnetic fields may clear out the inner region of the disk, opening up a space between the disk and the star. The argument goes that the disk truncates where the rotation of the stellar magnetic fields (which equals the rotation of the star) is equal to the Keplerian angular rotation speed of the disk. Interior to this region, the magnetic fields drag the disk (or at least the ions in the disk) along at super-Keplerian speeds and they simply accrete inwards. T Tauri stars seem to rotate at 10\\% of the stellar breakup speed (the speed at which the outer layers are essentially in orbit). What is the truncation radius for the disk in this case? How does this compare with the locations of extrasolar planets?  Perform your calculation for a sun-like star, but making some reasonable assumptions, determine a general expression for the truncation radius as a function of stellar mass.  Assume that for solar-like stars, $M_\\star\\propto R_\\star$."
   ]
  },
  {
   "cell_type": "code",
   "execution_count": null,
   "metadata": {},
   "outputs": [],
   "source": []
  },
  {
   "cell_type": "markdown",
   "metadata": {},
   "source": [
    "<font color=\"red\">*Comments from instructor:*</font> "
   ]
  },
  {
   "cell_type": "markdown",
   "metadata": {},
   "source": [
    "### 1(c):  The so-called \"dust sublimation radius\" is the distance from the star within which silicate-based rocks like olivine are hot enough to vaporize.  Using reasonable assumptions, and assuming a sublimation temperature of 1500 K for silicate-based rocks, calculate the dust sublimation radius.  Perform your calculation for a sun-like star, but also derive a general expression which is a function of stellar mass.  Assume that for sun-like stars, $L\\propto M^{4.7}$."
   ]
  },
  {
   "cell_type": "code",
   "execution_count": null,
   "metadata": {},
   "outputs": [],
   "source": []
  },
  {
   "cell_type": "markdown",
   "metadata": {},
   "source": [
    "<font color=\"red\">*Comments from instructor:*</font>"
   ]
  },
  {
   "cell_type": "markdown",
   "metadata": {},
   "source": [
    "### 1(d):  The tidal circularization radius is the orbital radius at which the planetary orbit will circularize quickly due to tidal forces.  Ford \\& Rasio (2006) find that this radius is related to the Roche limit of the star.  Using the definition of Roche limit, determine how the tidal circularization radius scales with stellar mass."
   ]
  },
  {
   "cell_type": "code",
   "execution_count": null,
   "metadata": {},
   "outputs": [],
   "source": []
  },
  {
   "cell_type": "markdown",
   "metadata": {},
   "source": [
    "<font color=\"red\">*Comments from instructor:*</font>"
   ]
  },
  {
   "cell_type": "markdown",
   "metadata": {},
   "source": [
    "### 1(e): Make a plot of these three radii vs. stellar mass.  Since you didn't find the absolute value of the tidal circularization radius, just assume it's the same as the magnetic truncation radius for solar mass stars. Discuss how you might use these plots to determine what causes the pile-up of planets at small radii."
   ]
  },
  {
   "cell_type": "code",
   "execution_count": null,
   "metadata": {},
   "outputs": [],
   "source": []
  },
  {
   "cell_type": "markdown",
   "metadata": {},
   "source": [
    "<font color=\"red\">*Comments from instructor:*</font>"
   ]
  },
  {
   "cell_type": "markdown",
   "metadata": {},
   "source": [
    "## <font color=\"red\"> Grade </font>"
   ]
  },
  {
   "cell_type": "markdown",
   "metadata": {},
   "source": [
    "<font color=\"red\"> Calculations: </font>"
   ]
  },
  {
   "cell_type": "code",
   "execution_count": 2,
   "metadata": {},
   "outputs": [],
   "source": [
    "calculations_grade=0"
   ]
  },
  {
   "cell_type": "markdown",
   "metadata": {},
   "source": [
    "<font color=\"red\"> Concepts: </font>"
   ]
  },
  {
   "cell_type": "code",
   "execution_count": 3,
   "metadata": {},
   "outputs": [],
   "source": [
    "concepts_grade=0"
   ]
  },
  {
   "cell_type": "markdown",
   "metadata": {},
   "source": [
    "<font color=\"red\"> Communication: </font>"
   ]
  },
  {
   "cell_type": "code",
   "execution_count": 4,
   "metadata": {},
   "outputs": [],
   "source": [
    "communication_grade=0"
   ]
  },
  {
   "cell_type": "markdown",
   "metadata": {},
   "source": [
    "<font color=\"red\"> Total grade: </font>"
   ]
  },
  {
   "cell_type": "code",
   "execution_count": 5,
   "metadata": {},
   "outputs": [
    {
     "name": "stdout",
     "output_type": "stream",
     "text": [
      "0\n"
     ]
    }
   ],
   "source": [
    "print(calculations_grade+concepts_grade+communication_grade)"
   ]
  },
  {
   "cell_type": "code",
   "execution_count": null,
   "metadata": {},
   "outputs": [],
   "source": []
  }
 ],
 "metadata": {
  "kernelspec": {
   "display_name": "Python 3",
   "language": "python",
   "name": "python3"
  },
  "language_info": {
   "codemirror_mode": {
    "name": "ipython",
    "version": 3
   },
   "file_extension": ".py",
   "mimetype": "text/x-python",
   "name": "python",
   "nbconvert_exporter": "python",
   "pygments_lexer": "ipython3",
   "version": "3.7.3"
  }
 },
 "nbformat": 4,
 "nbformat_minor": 1
}
