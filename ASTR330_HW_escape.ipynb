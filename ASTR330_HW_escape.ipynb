{
 "cells": [
  {
   "cell_type": "markdown",
   "metadata": {},
   "source": [
    "## <font color=\"red\">Student name:</font>"
   ]
  },
  {
   "cell_type": "code",
   "execution_count": 6,
   "metadata": {},
   "outputs": [
    {
     "name": "stdout",
     "output_type": "stream",
     "text": [
      "Populating the interactive namespace from numpy and matplotlib\n"
     ]
    }
   ],
   "source": [
    "#Start all notebooks with this line.  It sets a lot of variables to values we want to use,\n",
    "#and reads in some important packages of routines, too.\n",
    "%pylab inline"
   ]
  },
  {
   "cell_type": "markdown",
   "metadata": {},
   "source": [
    "## Atmospheric Escape"
   ]
  },
  {
   "cell_type": "markdown",
   "metadata": {},
   "source": [
    "The Jeans formula governing atmospheric escape due to thermal evaporation is:\n",
    "\\begin{equation}\n",
    "\\phi = n_i <v>\n",
    "\\end{equation}\n",
    "where $\\phi$ is the flux of escaping particles, $n_i$ is the number density of the species of interest and $< v >$\n",
    "is given by\n",
    "\\begin{equation}\n",
    "< v >\\ = \\frac{u}{2\\pi^{1/2}} (1+\\lambda) e^{-\\lambda}.\n",
    "\\end{equation}\n",
    "    \n",
    "\\begin{equation}\n",
    "\\lambda=\\frac{GMm_i}{kTR}\n",
    "\\end{equation}\n",
    "    and\n",
    "\\begin{equation}\n",
    "u = \\left(\\frac{2kT}{m_i}\\right)^{1/2} \n",
    "\\end{equation}\n",
    "is the most probable velocity of a Maxwell-Boltzmann distribution, $M$ is the mass of the planet, $m_i$ is the mass of the species of interest, $T$ is the temperature of the gas, and $R$ is the radius of the planet."
   ]
  },
  {
   "cell_type": "markdown",
   "metadata": {},
   "source": [
    "### 1(a): What two factors compete to determine if a particle escapes, and how do they manifest themselves in the formula above?  What happens to $\\phi$ in the limit that one factor (pick one) is much larger?  What happens to $\\phi$ in the limit that the other factor is larger?"
   ]
  },
  {
   "cell_type": "code",
   "execution_count": null,
   "metadata": {},
   "outputs": [],
   "source": []
  },
  {
   "cell_type": "markdown",
   "metadata": {},
   "source": [
    "<font color=\"red\">*Comments from instructor: (please do not remove this cell)*</font>"
   ]
  },
  {
   "cell_type": "markdown",
   "metadata": {},
   "source": [
    "### 1(b): Assuming $N_i=4\\pi R^2 H n_i$ where $H$ is the scale height of the atmosphere, $N$ is the total number of molecules and $R$ is the radius of the Earth, find an expression for $n_i(t)$ --- the number density of a species of interest as a function of time.  Keep it simple by expressing it as a function of $<v>$ (i.e., do not expand the definition of $<v>$ in your expression.)"
   ]
  },
  {
   "cell_type": "code",
   "execution_count": null,
   "metadata": {},
   "outputs": [],
   "source": []
  },
  {
   "cell_type": "markdown",
   "metadata": {},
   "source": [
    "<font color=\"red\">*Comments from instructor:*</font>"
   ]
  },
  {
   "cell_type": "markdown",
   "metadata": {},
   "source": [
    "### 1(c): Your expression should include a term that looks like $e^{-t/\\tau}$, where $\\tau$ is therefore the amount of time it takes for $n$ to drop by a factor of $e$.  $\\tau$ is sometimes called the \"e-folding time\".  How many e-folding times would it take for a molecule to be depleted by 99\\% of its original number density?"
   ]
  },
  {
   "cell_type": "code",
   "execution_count": null,
   "metadata": {},
   "outputs": [],
   "source": []
  },
  {
   "cell_type": "markdown",
   "metadata": {},
   "source": [
    "<font color=\"red\">*Comments from instructor:*</font>"
   ]
  },
  {
   "cell_type": "markdown",
   "metadata": {},
   "source": [
    "### 1(d): Compute the e-folding time (in years) and the amount of time it would take to deplete 99\\% of Earth's $N_2$.   The thermal equilibrium temperature of the stratosphere is close to 200 K, but rises steeply at higher altitudes.  Therefore, instead of calculating the escape rate at the Earth's surface, calculate the loss at the exobase, which has a temperature near 1000 K.  Assume $H=8$ km.  Tip: Many constants, including the mass and radius of Earth, the mass and radius of Jupiter, G, Boltzmann's constant, etc., are available in the library astropy.constants."
   ]
  },
  {
   "cell_type": "code",
   "execution_count": null,
   "metadata": {},
   "outputs": [],
   "source": []
  },
  {
   "cell_type": "markdown",
   "metadata": {},
   "source": [
    "<font color=\"red\">*Comments from instructor:*</font>"
   ]
  },
  {
   "cell_type": "markdown",
   "metadata": {},
   "source": [
    "### 1(e): Perform these same calculations for He on Earth."
   ]
  },
  {
   "cell_type": "code",
   "execution_count": null,
   "metadata": {},
   "outputs": [],
   "source": []
  },
  {
   "cell_type": "markdown",
   "metadata": {},
   "source": [
    "<font color=\"red\">*Comments from instructor:*</font>"
   ]
  },
  {
   "cell_type": "markdown",
   "metadata": {},
   "source": [
    "### 1(f): Perform these same calculations for H$_2$ on Earth."
   ]
  },
  {
   "cell_type": "code",
   "execution_count": null,
   "metadata": {},
   "outputs": [],
   "source": []
  },
  {
   "cell_type": "markdown",
   "metadata": {},
   "source": [
    "<font color=\"red\">*Comments from instructor:*</font>"
   ]
  },
  {
   "cell_type": "markdown",
   "metadata": {},
   "source": [
    "### 1(g): Discuss what you learned from performing these last few calculations."
   ]
  },
  {
   "cell_type": "code",
   "execution_count": null,
   "metadata": {},
   "outputs": [],
   "source": []
  },
  {
   "cell_type": "markdown",
   "metadata": {},
   "source": [
    "<font color=\"red\">*Comments from instructor:*</font> "
   ]
  },
  {
   "cell_type": "markdown",
   "metadata": {},
   "source": [
    "### 1(h):  Assuming a super Earth planet has the same atmospheric temperature as Earth, but its mass is 10 M$_\\oplus$ and its radius is 2 R$_\\oplus$, compute the e-folding time (in years) and the amount of time it would take to deplete 99\\% of a super Earth's H$_2$.  Assume $H=8$ km as it is for Earth (though it's likely to be somewhat different).  Discuss the implications of your answer."
   ]
  },
  {
   "cell_type": "code",
   "execution_count": null,
   "metadata": {},
   "outputs": [],
   "source": []
  },
  {
   "cell_type": "markdown",
   "metadata": {},
   "source": [
    "<font color=\"red\">*Comments from instructor:*</font>"
   ]
  },
  {
   "cell_type": "markdown",
   "metadata": {},
   "source": [
    "### 1(i): Jupiter's upper atmosphere reaches temperatures of only around 200 K.  Before doing a calculation, state how you expect the escape timescale for H$_2$ from Jupiter would compare quantitatively to one or more of the calculations above, and explain why.  Then, compute the e-folding time and the amount of time it would take to deplete 99\\% of Jupiter's $H_2$.  Use $H=27$ km.  Discuss your result. "
   ]
  },
  {
   "cell_type": "code",
   "execution_count": null,
   "metadata": {},
   "outputs": [],
   "source": []
  },
  {
   "cell_type": "markdown",
   "metadata": {},
   "source": [
    "<font color=\"red\">*Comments from instructor:*</font>"
   ]
  },
  {
   "cell_type": "markdown",
   "metadata": {},
   "source": [
    "### 1(j): Remind yourself of how equilibrium temperature depends on semi-major axis.  Use the scaling relationship $T_e\\propto a^p$ (where you will find p) to scale Jupiter's 200 K temperature and estimate the temperature at the top of a *hot* Jupiter's atmosphere, assuming $a=0.05$ AU.  Then, use this temperature to calculate the e-folding time and the amount of time it would take to deplete 99\\% of a hot Jupiter's $H_2$.  Discuss your result."
   ]
  },
  {
   "cell_type": "code",
   "execution_count": null,
   "metadata": {},
   "outputs": [],
   "source": []
  },
  {
   "cell_type": "markdown",
   "metadata": {},
   "source": [
    "<font color=\"red\">*Comments from instructor:*</font>"
   ]
  },
  {
   "cell_type": "markdown",
   "metadata": {},
   "source": [
    "### 1(k): Vidal-Madjar et al. 2003 detected escape of *atomic* Hydrogen from a hot Jupiter.  Figure out if this is at least a reasonable possibility by calculating the number of $H$ atoms you'd expect to escape from a hot Jupiter during a 2 hour transit window.  Assume the density at the escaping layer is 0.01 kg m$^{-3}$, and the temperature is the same as you just calculated.  Discuss your result."
   ]
  },
  {
   "cell_type": "code",
   "execution_count": null,
   "metadata": {},
   "outputs": [],
   "source": []
  },
  {
   "cell_type": "markdown",
   "metadata": {},
   "source": [
    "<font color=\"red\">*Comments from instructor:*</font>"
   ]
  },
  {
   "cell_type": "markdown",
   "metadata": {},
   "source": [
    "## <font color=\"red\"> Grade </font>"
   ]
  },
  {
   "cell_type": "markdown",
   "metadata": {},
   "source": [
    "<font color=\"red\"> Calculations: </font>"
   ]
  },
  {
   "cell_type": "code",
   "execution_count": 2,
   "metadata": {},
   "outputs": [],
   "source": [
    "calculations_grade=0"
   ]
  },
  {
   "cell_type": "markdown",
   "metadata": {},
   "source": [
    "<font color=\"red\"> Concepts: </font>"
   ]
  },
  {
   "cell_type": "code",
   "execution_count": 3,
   "metadata": {},
   "outputs": [],
   "source": [
    "concepts_grade=0"
   ]
  },
  {
   "cell_type": "markdown",
   "metadata": {},
   "source": [
    "<font color=\"red\"> Communication: </font>"
   ]
  },
  {
   "cell_type": "code",
   "execution_count": 4,
   "metadata": {},
   "outputs": [],
   "source": [
    "communication_grade=0"
   ]
  },
  {
   "cell_type": "markdown",
   "metadata": {},
   "source": [
    "<font color=\"red\"> Total grade: </font>"
   ]
  },
  {
   "cell_type": "code",
   "execution_count": 5,
   "metadata": {},
   "outputs": [
    {
     "name": "stdout",
     "output_type": "stream",
     "text": [
      "0\n"
     ]
    }
   ],
   "source": [
    "print(calculations_grade+concepts_grade+communication_grade)"
   ]
  },
  {
   "cell_type": "code",
   "execution_count": null,
   "metadata": {},
   "outputs": [],
   "source": []
  }
 ],
 "metadata": {
  "kernelspec": {
   "display_name": "Python 3",
   "language": "python",
   "name": "python3"
  },
  "language_info": {
   "codemirror_mode": {
    "name": "ipython",
    "version": 3
   },
   "file_extension": ".py",
   "mimetype": "text/x-python",
   "name": "python",
   "nbconvert_exporter": "python",
   "pygments_lexer": "ipython3",
   "version": "3.7.3"
  }
 },
 "nbformat": 4,
 "nbformat_minor": 1
}
