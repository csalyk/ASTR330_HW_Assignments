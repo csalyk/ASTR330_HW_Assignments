{
 "cells": [
  {
   "cell_type": "markdown",
   "id": "df513240",
   "metadata": {},
   "source": [
    "## <font color=\"red\">Student name:</font>"
   ]
  },
  {
   "cell_type": "code",
   "execution_count": 13,
   "id": "26caa3f9",
   "metadata": {},
   "outputs": [],
   "source": [
    "%matplotlib inline\n",
    "import numpy as np\n",
    "import matplotlib.pyplot as plt\n",
    "import pickle as pickle"
   ]
  },
  {
   "cell_type": "markdown",
   "id": "e3337c7d",
   "metadata": {},
   "source": [
    "You may find the R_sun constant helpful for this homework, so let's read it in here"
   ]
  },
  {
   "cell_type": "code",
   "execution_count": 14,
   "id": "052735ed",
   "metadata": {},
   "outputs": [],
   "source": [
    "from astropy.constants import R_sun"
   ]
  },
  {
   "cell_type": "markdown",
   "id": "8bea7081",
   "metadata": {},
   "source": [
    "### In this problem set, we'll practice modeling an exoplanet transit, as well as \"fitting\" an exoplanet transit with models using the residual sum of squares (a.k.a., \"the reduced chi squared method\")."
   ]
  },
  {
   "cell_type": "markdown",
   "id": "dac432fd",
   "metadata": {},
   "source": [
    "### 1(a): First, let's begin the modeling process.  Create a 2-dimensional 500 x 500 pixel grid of physical size 2$R_\\odot$ x 2$R_\\odot$, with positions going from -$R_\\odot$ to +$R_\\odot$.  Hint: Use the numpy.linspace routine to define the x and y coordinates of your axes.  Then, use numpy.meshgrid to find the x and y positions at every point on the 500 x 500 pixel grid.  "
   ]
  },
  {
   "cell_type": "code",
   "execution_count": null,
   "id": "047ace64",
   "metadata": {},
   "outputs": [],
   "source": []
  },
  {
   "cell_type": "markdown",
   "id": "c9d26a18",
   "metadata": {},
   "source": [
    "<font color=\"red\">*Self-grading comments:*</font>"
   ]
  },
  {
   "cell_type": "markdown",
   "id": "9d1e0c9f",
   "metadata": {},
   "source": [
    "<font color=\"red\">*Comments from instructor:*</font>"
   ]
  },
  {
   "cell_type": "markdown",
   "id": "3d8a02ce",
   "metadata": {},
   "source": [
    "### 1(b): Create a mask to represent the star's boundaries on the grid you just created.  To do this, create a boolean array with the value of True wherever the grid points are inside the star's radius, and the value False wherever the grid points are outside of the star's radius.  For simplicity, let the star's radius equal one solar radius.  Use imshow to check your results."
   ]
  },
  {
   "cell_type": "code",
   "execution_count": null,
   "id": "c50e94ed",
   "metadata": {},
   "outputs": [],
   "source": []
  },
  {
   "cell_type": "markdown",
   "id": "e941840b",
   "metadata": {},
   "source": [
    "<font color=\"red\">*Self-grading comments:*</font>"
   ]
  },
  {
   "cell_type": "markdown",
   "id": "d4052b25",
   "metadata": {},
   "source": [
    "<font color=\"red\">*Comments from instructor:*</font>"
   ]
  },
  {
   "cell_type": "markdown",
   "id": "9079506a",
   "metadata": {},
   "source": [
    "### 1(c): Given a position (x,y) for the planet, and assuming it has a radius $0.1 R_\\odot$ (similar to Jupiter's radius), create a mask to represent the planet's boundaries.  To do this, create a boolean array with the value of True wherever the grid points are inside the planet's radius, and the value False wherever the grid points are outside of the planet's radius.  Use imshow to test your results; perhaps try first placing the planet at the position (0,0)."
   ]
  },
  {
   "cell_type": "code",
   "execution_count": null,
   "id": "5699c3c8",
   "metadata": {},
   "outputs": [],
   "source": []
  },
  {
   "cell_type": "markdown",
   "id": "14b42071",
   "metadata": {},
   "source": [
    "<font color=\"red\">*Self-grading comments:*</font>"
   ]
  },
  {
   "cell_type": "markdown",
   "id": "bc21bc72",
   "metadata": {},
   "source": [
    "<font color=\"red\">*Comments from instructor:*</font>"
   ]
  },
  {
   "cell_type": "markdown",
   "id": "eccd54b3",
   "metadata": {},
   "source": [
    "### 1(d): Now, we'll need to create a set of timesteps so the planet can move across the star. Create an array of times extending from 0 to 4 hours.  Let the time interval be one minute."
   ]
  },
  {
   "cell_type": "code",
   "execution_count": null,
   "id": "db1a6bab",
   "metadata": {},
   "outputs": [],
   "source": []
  },
  {
   "cell_type": "markdown",
   "id": "e41fcf4b",
   "metadata": {},
   "source": [
    "<font color=\"red\">*Self-grading comments:*</font>"
   ]
  },
  {
   "cell_type": "markdown",
   "id": "a3c55acc",
   "metadata": {},
   "source": [
    "<font color=\"red\">*Comments from instructor:*</font>"
   ]
  },
  {
   "cell_type": "markdown",
   "id": "93dadb8e",
   "metadata": {},
   "source": [
    "### 1(e):  For simplicity, we'll allow our planet to transit the stellar equator.  For each time in the time grid, compute the x position of the planet, assuming the total transit duration is 2 hours, and that the timesteps you created start 1 hour before ingress and end 1 hour after egress (i.e., the planet begins at a position -2R_sun at time 0).   (Hint: First compute the speed of the planet in units of meters per minute.)"
   ]
  },
  {
   "cell_type": "code",
   "execution_count": null,
   "id": "1afd75c3",
   "metadata": {},
   "outputs": [],
   "source": []
  },
  {
   "cell_type": "markdown",
   "id": "594b2adc",
   "metadata": {},
   "source": [
    "<font color=\"red\">*Self-grading comments:*</font>"
   ]
  },
  {
   "cell_type": "markdown",
   "id": "7d07e11d",
   "metadata": {},
   "source": [
    "<font color=\"red\">*Comments from instructor:*</font>"
   ]
  },
  {
   "cell_type": "markdown",
   "id": "e23b61db",
   "metadata": {},
   "source": [
    "### 1(f):  Use the star and planet boolean masks to compute the total number stellar pixels that are visible at each time step - this will be proportional to the total intensity seen by an observer.  To be consistent, call this total intensity int_tot_list1.\n",
    "\n",
    "### Once you've computed int_tot_list1, divide by its maximum value to compute a relative intensity - call this int_rel_list1.  Then, plot relative intensity vs. time.  "
   ]
  },
  {
   "cell_type": "code",
   "execution_count": null,
   "id": "9e7e99e7",
   "metadata": {},
   "outputs": [],
   "source": []
  },
  {
   "cell_type": "markdown",
   "id": "f399bcb1",
   "metadata": {},
   "source": [
    "<font color=\"red\">*Self-grading comments:*</font>"
   ]
  },
  {
   "cell_type": "markdown",
   "id": "01c40b1a",
   "metadata": {},
   "source": [
    "<font color=\"red\">*Comments from instructor:*</font>"
   ]
  },
  {
   "cell_type": "markdown",
   "id": "b98de7e5",
   "metadata": {},
   "source": [
    "### 1(g) Using an appropriate equation, calculated the expected drop in relative intensity during the transit.  Check that your plot matches this expectation. If not, figure out why, and try to fix it."
   ]
  },
  {
   "cell_type": "code",
   "execution_count": null,
   "id": "5ccf1ca7",
   "metadata": {},
   "outputs": [],
   "source": []
  },
  {
   "cell_type": "markdown",
   "id": "b9324bf9",
   "metadata": {},
   "source": [
    "<font color=\"red\">*Self-grading comments:*</font>"
   ]
  },
  {
   "cell_type": "markdown",
   "id": "1561882b",
   "metadata": {},
   "source": [
    "<font color=\"red\">*Comments from instructor:*</font>"
   ]
  },
  {
   "cell_type": "markdown",
   "id": "291c700a",
   "metadata": {},
   "source": [
    "### 1(h) The dataset provided below represents a synthetic observation of an exoplanet transit (with time intervals identical to your models).  Use this dataset, and the model you created, to calculate the sum of squared residuals, the chi-squared goodness of fit parameter, and the reduced-chi-squared value."
   ]
  },
  {
   "cell_type": "code",
   "execution_count": 17,
   "id": "c8762694",
   "metadata": {},
   "outputs": [
    {
     "data": {
      "text/plain": [
       "[<matplotlib.lines.Line2D at 0x120f2b2b0>]"
      ]
     },
     "execution_count": 17,
     "metadata": {},
     "output_type": "execute_result"
    },
    {
     "data": {
      "image/png": "[encoded data removed]",
      "text/plain": [
       "<Figure size 432x288 with 1 Axes>"
      ]
     },
     "metadata": {
      "needs_background": "light"
     },
     "output_type": "display_data"
    }
   ],
   "source": [
    "data_ri=pickle.load(open('transit_data.p','rb'))\n",
    "\n",
    "fig=plt.figure()\n",
    "ax1=fig.add_subplot(111)\n",
    "ax1.plot(data_ri, 'r.')"
   ]
  },
  {
   "cell_type": "code",
   "execution_count": null,
   "id": "1e8d9918",
   "metadata": {},
   "outputs": [],
   "source": []
  },
  {
   "cell_type": "markdown",
   "id": "11ae86c9",
   "metadata": {},
   "source": [
    "<font color=\"red\">*Self-grading comments:*</font>"
   ]
  },
  {
   "cell_type": "markdown",
   "id": "e5acc79e",
   "metadata": {},
   "source": [
    "<font color=\"red\">*Comments from instructor:*</font>"
   ]
  },
  {
   "cell_type": "markdown",
   "id": "ab569f26",
   "metadata": {},
   "source": [
    "### 1(i) Re-do the calculations above for planets with a radius of 0.09 R_solar.  (Use different variable names so you don't overwrite the work above)."
   ]
  },
  {
   "cell_type": "code",
   "execution_count": null,
   "id": "8ddd04b9",
   "metadata": {},
   "outputs": [],
   "source": []
  },
  {
   "cell_type": "markdown",
   "id": "91e11bf7",
   "metadata": {},
   "source": [
    "<font color=\"red\">*Self-grading comments:*</font>"
   ]
  },
  {
   "cell_type": "markdown",
   "id": "8db57238",
   "metadata": {},
   "source": [
    "<font color=\"red\">*Comments from instructor:*</font>"
   ]
  },
  {
   "cell_type": "markdown",
   "id": "210130ad",
   "metadata": {},
   "source": [
    "### 1(j) Re-do the calculations above for planets with a radius of 0.11 R_solar. (Again, use different variable names so you don't overwrite the work above)."
   ]
  },
  {
   "cell_type": "code",
   "execution_count": null,
   "id": "1f56f01f",
   "metadata": {},
   "outputs": [],
   "source": []
  },
  {
   "cell_type": "markdown",
   "id": "6e14f1b7",
   "metadata": {},
   "source": [
    "<font color=\"red\">*Self-grading comments:*</font>"
   ]
  },
  {
   "cell_type": "markdown",
   "id": "0cff47fd",
   "metadata": {},
   "source": [
    "<font color=\"red\">*Comments from instructor:*</font>"
   ]
  },
  {
   "cell_type": "markdown",
   "id": "ee746c8a",
   "metadata": {},
   "source": [
    "### 1(k) Make a plot of the sum of squared residuals vs. planet size.  Which model provides the best fit to the data?"
   ]
  },
  {
   "cell_type": "code",
   "execution_count": null,
   "id": "de53438a",
   "metadata": {},
   "outputs": [],
   "source": []
  },
  {
   "cell_type": "markdown",
   "id": "88b6641a",
   "metadata": {},
   "source": [
    "<font color=\"red\">*Self-grading comments:*</font>"
   ]
  },
  {
   "cell_type": "markdown",
   "id": "487e0c55",
   "metadata": {},
   "source": [
    "<font color=\"red\">*Comments from instructor:*</font>"
   ]
  },
  {
   "cell_type": "markdown",
   "id": "802a212f",
   "metadata": {},
   "source": [
    "### 1(l) Confirm your result by overplotting the data with all three models.  Does your conclusion from above agree with these plots?"
   ]
  },
  {
   "cell_type": "code",
   "execution_count": null,
   "id": "c159b48e",
   "metadata": {},
   "outputs": [],
   "source": []
  },
  {
   "cell_type": "markdown",
   "id": "60ea16ec",
   "metadata": {},
   "source": [
    "<font color=\"red\">*Self-grading comments:*</font>"
   ]
  },
  {
   "cell_type": "markdown",
   "id": "04b798c0",
   "metadata": {},
   "source": [
    "<font color=\"red\">*Comments from instructor:*</font>"
   ]
  },
  {
   "cell_type": "markdown",
   "id": "0d96ff1f",
   "metadata": {},
   "source": [
    "### 1(m) Our process here was very simple.  Describe one or more modifications you might make to this process to improve the model fitting/make the model fitting more sophisticated.  (You do not need to implement the changes, just discuss them.)"
   ]
  },
  {
   "cell_type": "code",
   "execution_count": null,
   "id": "172a2712",
   "metadata": {},
   "outputs": [],
   "source": []
  },
  {
   "cell_type": "markdown",
   "id": "d5138ddd",
   "metadata": {},
   "source": [
    "<font color=\"red\">*Self-grading comments:*</font>"
   ]
  },
  {
   "cell_type": "markdown",
   "id": "1641579d",
   "metadata": {},
   "source": [
    "<font color=\"red\">*Comments from instructor:*</font>"
   ]
  },
  {
   "cell_type": "markdown",
   "id": "2d64687b",
   "metadata": {},
   "source": [
    "## <font color=\"red\"> Grade </font>"
   ]
  },
  {
   "cell_type": "markdown",
   "id": "1a87a5ee",
   "metadata": {},
   "source": [
    "<font color=\"red\"> Calculations: </font>"
   ]
  },
  {
   "cell_type": "code",
   "execution_count": 29,
   "id": "e1d17e10",
   "metadata": {},
   "outputs": [],
   "source": [
    "calculations_grade=0"
   ]
  },
  {
   "cell_type": "markdown",
   "id": "e9c83c4c",
   "metadata": {},
   "source": [
    "<font color=\"red\"> Concepts: </font>"
   ]
  },
  {
   "cell_type": "code",
   "execution_count": 30,
   "id": "0ff0e062",
   "metadata": {},
   "outputs": [],
   "source": [
    "concepts_grade=0"
   ]
  },
  {
   "cell_type": "markdown",
   "id": "60715930",
   "metadata": {},
   "source": [
    "<font color=\"red\"> Communication: </font>"
   ]
  },
  {
   "cell_type": "code",
   "execution_count": 31,
   "id": "d29833e6",
   "metadata": {},
   "outputs": [],
   "source": [
    "communication_grade=0"
   ]
  },
  {
   "cell_type": "markdown",
   "id": "4a90e534",
   "metadata": {},
   "source": [
    "<font color=\"red\"> Total grade: </font>"
   ]
  },
  {
   "cell_type": "code",
   "execution_count": 32,
   "id": "5e749761",
   "metadata": {},
   "outputs": [
    {
     "name": "stdout",
     "output_type": "stream",
     "text": [
      "0\n"
     ]
    }
   ],
   "source": [
    "print(calculations_grade+concepts_grade+communication_grade)"
   ]
  },
  {
   "cell_type": "code",
   "execution_count": null,
   "id": "592ed144",
   "metadata": {},
   "outputs": [],
   "source": []
  }
 ],
 "metadata": {
  "kernelspec": {
   "display_name": "Python 3 (ipykernel)",
   "language": "python",
   "name": "python3"
  },
  "language_info": {
   "codemirror_mode": {
    "name": "ipython",
    "version": 3
   },
   "file_extension": ".py",
   "mimetype": "text/x-python",
   "name": "python",
   "nbconvert_exporter": "python",
   "pygments_lexer": "ipython3",
   "version": "3.9.12"
  }
 },
 "nbformat": 4,
 "nbformat_minor": 5
}
